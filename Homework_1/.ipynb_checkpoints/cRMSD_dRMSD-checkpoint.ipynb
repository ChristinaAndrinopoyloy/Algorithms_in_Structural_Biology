{
 "cells": [
  {
   "cell_type": "markdown",
   "id": "681307cc",
   "metadata": {},
   "source": [
    "# Algorithms in Structural Biology\n",
    "## Homework 1\n",
    "### Question 2: cRMSD - dRMSD\n",
    "#### Andrinopoulou Christina (ds2200013)"
   ]
  },
  {
   "cell_type": "code",
   "execution_count": 1,
   "id": "432c4c8a",
   "metadata": {},
   "outputs": [],
   "source": [
    "%matplotlib inline\n",
    "import matplotlib.pyplot as plt\n",
    "import numpy as np\n",
    "import pandas as pd\n",
    "import statistics\n",
    "import random\n",
    "import math"
   ]
  },
  {
   "cell_type": "markdown",
   "id": "abb2b992",
   "metadata": {},
   "source": [
    "Steps of algorithm:\n",
    "- Find the centroid of each conformation \n",
    "- Move the conformations to the origin of the space: Subtract the centroids from each coordinate\n",
    "- Singular Value Decomposition (SVD): best transformation Q for the conformation \n",
    "- Apply transformation to a conformation \n",
    "- Calculate the corresponding cRMSD distance"
   ]
  },
  {
   "cell_type": "code",
   "execution_count": 2,
   "id": "8bae031c",
   "metadata": {},
   "outputs": [],
   "source": [
    "class cRMSD:\n",
    "    def __init__(self, filename='80_conformations.txt'):\n",
    "        self.filename = filename\n",
    "        self.conformations, self.number_of_conformations, self.number_of_atoms = self.read_conformations()\n",
    "        self.centroid_1 = []\n",
    "        self.centroid_2 = []\n",
    "        self.U = np.empty((3,3))\n",
    "        self.Sigma = np.empty((0,3))\n",
    "        self.VT = np.empty((3,3))\n",
    "        self.Q = np.empty((3,3))\n",
    "        \n",
    "    \n",
    "    # read the conformations from the txt file\n",
    "    def read_conformations(self):\n",
    "        f = open(self.filename)\n",
    "        lines = f.readlines()\n",
    "        conformations = int(lines[0])\n",
    "        atoms = int(lines[1])\n",
    "        \n",
    "        df = pd.read_csv('80_conformations.txt', delimiter = \"\\t\", skiprows=2, header=None)\n",
    "        list_of_conformation = np.array_split(df, 80)\n",
    "        conformations_dict = { i : list_of_conformation[i] for i in range(len(list_of_conformation))}\n",
    "\n",
    "        f.close()\n",
    "        return conformations_dict, conformations, atoms\n",
    "        \n",
    "        \n",
    "    # calculate the centroid\n",
    "    def find_centroid(self, conformation1, conformation2):\n",
    "        sum_result1 = conformation1.sum(axis = 0)\n",
    "        sum_result2 = conformation2.sum(axis = 0)\n",
    "        self.centroid_1 = [sum_result1[i]/self.number_of_atoms for i in range(len(sum_result1))]\n",
    "        self.centroid_2 = [sum_result2[i]/self.number_of_atoms for i in range(len(sum_result2))]\n",
    "        \n",
    "        \n",
    "    # move the conformations to the origin\n",
    "    def move_to_origin(self, conformation1, conformation2):\n",
    "        number_of_cols = conformation1.shape[1]\n",
    "        for i in range(number_of_cols):\n",
    "            conformation1[i] -= self.centroid_1[i]\n",
    "            conformation2[i] -= self.centroid_2[i]\n",
    "        return conformation1, conformation2\n",
    "        \n",
    "       \n",
    "    # find best tranformation of one conformation, using SVD\n",
    "    def SVD_process(self, conformation1, conformation2):\n",
    "        XT_Y = np.matmul(conformation1.T.to_numpy(), conformation2.to_numpy())\n",
    "        self.U, self.Sigma, self.VT = np.linalg.svd(XT_Y)\n",
    "        self.Q = np.matmul(self.U, self.VT)\n",
    "        detQ = np.linalg.det(self.Q)\n",
    "        if detQ < 0:\n",
    "            self.U[2] = -self.U[2]\n",
    "            self.Q = np.matmul(self.U, self.VT)        \n",
    "        \n",
    "    \n",
    "    # calculate cRMSD\n",
    "    def cRMSD_distance(self, conformation1, conformation2):\n",
    "        temp = np.matmul(conformation1.to_numpy(), self.Q) - conformation2.to_numpy()\n",
    "    \n",
    "        sum_norms = 0\n",
    "        for i in range(temp.shape[0]):\n",
    "            sum_norms += pow(np.linalg.norm(temp[i]),2)\n",
    "        return math.sqrt(sum_norms/self.number_of_atoms)\n",
    "     \n",
    "       \n",
    "    # compare two conformations\n",
    "    def compare(self, conformation1, conformation2, print_flag=False):\n",
    "        self.find_centroid(conformation1, conformation2)\n",
    "        conformation1, conformation2 = self.move_to_origin(conformation1, conformation2)\n",
    "        self.SVD_process(conformation1, conformation2)\n",
    "        c_rmsd = self.cRMSD_distance(conformation1, conformation2)\n",
    "        if print_flag:\n",
    "            print(f'cRMSD = {c_rmsd}')\n",
    "        return c_rmsd\n",
    "        \n",
    "       \n",
    "    # comare all possible pairs of confomations \n",
    "    def compare_all(self):\n",
    "        distances = []\n",
    "        for i in range(self.number_of_conformations):\n",
    "            for j in range(self.number_of_conformations):\n",
    "                if i < j:\n",
    "                    distances.append(self.compare(self.conformations[i], self.conformations[j]))\n",
    "        mean = statistics.mean(distances)\n",
    "        median = statistics.median(distances)\n",
    "        print(f'Mean: {mean}')\n",
    "        print(f'Median: {median}')\n",
    "        plt.hist(distances, bins=10)\n",
    "        plt.title('cRMSD')\n",
    "        plt.xlabel('Distance')\n",
    "        plt.ylabel('Frequency')\n",
    "        plt.show()\n",
    "        \n",
    "        \n",
    "    # get the important parameters of the class   \n",
    "    def get_params(self):\n",
    "        return {'Conformations': self.conformations,\n",
    "                'Number_of_Conformations': self.number_of_conformations,\n",
    "                'Number_of_atoms': self.number_of_atoms,\n",
    "                'Centroid_1': self.centroid_1,\n",
    "                'Centroid_2': self.centroid_2,\n",
    "                'U': pd.DataFrame(self.U),\n",
    "                'Sigma': pd.DataFrame(self.Sigma),\n",
    "                'V': pd.DataFrame(self.VT.transpose()),\n",
    "                'Q': pd.DataFrame(self.Q),\n",
    "        }"
   ]
  },
  {
   "cell_type": "markdown",
   "id": "6672b7e3",
   "metadata": {},
   "source": [
    "#### Compute the optimal translation and rotation minimizing c-RMSD between the first 2 conformations"
   ]
  },
  {
   "cell_type": "code",
   "execution_count": 3,
   "id": "3b81e4ab",
   "metadata": {},
   "outputs": [
    {
     "name": "stdout",
     "output_type": "stream",
     "text": [
      "cRMSD = 0.6271694758794248\n",
      "################################################### U ###################################################\n",
      "          0         1         2\n",
      "0 -0.614345  0.311999 -0.724732\n",
      "1 -0.046984 -0.931337 -0.361115\n",
      "2 -0.787637 -0.187799  0.586821\n",
      "################################################### Sigma ###################################################\n",
      "              0\n",
      "0  34676.241277\n",
      "1   8650.358619\n",
      "2   5259.297438\n",
      "################################################### V ###################################################\n",
      "          0         1         2\n",
      "0 -0.613880  0.311817 -0.725204\n",
      "1 -0.050610 -0.932335 -0.358035\n",
      "2 -0.787775 -0.183088  0.588123\n",
      "################################################### Q ###################################################\n",
      "          0         1         2\n",
      "0  1.000000 -0.000315  0.000611\n",
      "1  0.000318  0.999988 -0.004851\n",
      "2 -0.000609  0.004851  0.999988\n"
     ]
    }
   ],
   "source": [
    "c_rmsd = cRMSD()\n",
    "params = c_rmsd.get_params()\n",
    "c_rmsd.compare(conformation1=params['Conformations'][0], conformation2=params['Conformations'][1], print_flag=True)\n",
    "params = c_rmsd.get_params()\n",
    "header = '#'*51 \n",
    "print(header+' U '+header)\n",
    "print(params['U'].to_string())\n",
    "header = '#'*51 \n",
    "print(header+' Sigma '+header)\n",
    "print(params['Sigma'].to_string())\n",
    "header = '#'*51 \n",
    "print(header+' V '+header)\n",
    "print(params['V'].to_string())\n",
    "header = '#'*51 \n",
    "print(header+' Q '+header)\n",
    "print(params['Q'].to_string())"
   ]
  },
  {
   "cell_type": "markdown",
   "id": "12c9d58c",
   "metadata": {},
   "source": [
    "#### Compute the c-RMSD distances between all ${80 \\choose 2}$ pairs of conformations"
   ]
  },
  {
   "cell_type": "code",
   "execution_count": 4,
   "id": "d1fb1bb6",
   "metadata": {},
   "outputs": [
    {
     "name": "stdout",
     "output_type": "stream",
     "text": [
      "Mean: 11.015199832626305\n",
      "Median: 10.853087486496054\n"
     ]
    },
    {
     "data": {
      "image/png": "[encoded data removed]",
      "text/plain": [
       "<Figure size 432x288 with 1 Axes>"
      ]
     },
     "metadata": {
      "needs_background": "light"
     },
     "output_type": "display_data"
    }
   ],
   "source": [
    "c_rmsd.compare_all()"
   ]
  },
  {
   "cell_type": "markdown",
   "id": "8610ebe4",
   "metadata": {},
   "source": [
    "The dRMSD distnace is based on the distances between the atoms of each conformation and is calculated based on the formula below:\n",
    "\n",
    "\\begin{align*}\n",
    "    dRMSD = \\sqrt{\\frac{1}{k} \\sum_{i=1}^{k} (d_i - d_i')^2}\n",
    "\\end{align*}"
   ]
  },
  {
   "cell_type": "code",
   "execution_count": 5,
   "id": "401b00c6",
   "metadata": {},
   "outputs": [],
   "source": [
    "class dRMSD:\n",
    "    def __init__(self, filename='80_conformations.txt'):\n",
    "        self.filename = filename\n",
    "        self.conformations, self.number_of_conformations, self.number_of_atoms = self.read_conformations()\n",
    "        \n",
    "        \n",
    "    def read_conformations(self):\n",
    "        f = open(self.filename)\n",
    "        lines = f.readlines()\n",
    "        conformations = int(lines[0])\n",
    "        atoms = int(lines[1])\n",
    "        \n",
    "        df = pd.read_csv('80_conformations.txt', delimiter = \"\\t\", skiprows=2, header=None)\n",
    "        list_of_conformation = np.array_split(df, 80)\n",
    "        conformations_dict = { i : list_of_conformation[i] for i in range(len(list_of_conformation))}\n",
    "\n",
    "        f.close()\n",
    "        return conformations_dict, conformations, atoms\n",
    "    \n",
    "    \n",
    "    def compare(self, x, y, random_flag=False):\n",
    "        sum_value = 0\n",
    "        k = 0\n",
    "        \n",
    "        conformation_1 = self.conformations[x].to_numpy()\n",
    "        conformation_2 = self.conformations[y].to_numpy()\n",
    "        \n",
    "        if random_flag:\n",
    "            random_indexes = [(random.randint(0, self.number_of_atoms-1), random.randint(0, self.number_of_atoms-1)) for i in range(3*self.number_of_atoms)]\n",
    "            for k in range(self.number_of_atoms):\n",
    "                i = random_indexes[k][0]\n",
    "                j = random_indexes[k][1]\n",
    "                atom_x_1 = conformation_1[i]\n",
    "                atom_y_1 = conformation_2[i]\n",
    "                atom_x_2 = conformation_1[j]\n",
    "                atom_y_2 = conformation_2[j]\n",
    "                dist_x = np.linalg.norm(atom_x_1 - atom_x_2)\n",
    "                dist_y = np.linalg.norm(atom_y_1 - atom_y_2)\n",
    "                sum_value += pow(dist_x-dist_y, 2)\n",
    "            return math.sqrt(sum_value/k)\n",
    "\n",
    "        for i in range(self.number_of_atoms):\n",
    "            atom_x_1 = conformation_1[i]\n",
    "            atom_y_1 = conformation_2[i]\n",
    "            for j in range(self.number_of_atoms):\n",
    "                if i < j:\n",
    "                    k += 1\n",
    "                    atom_x_2 = conformation_1[j]\n",
    "                    atom_y_2 = conformation_2[j]\n",
    "                    dist_x = np.linalg.norm(atom_x_1 - atom_x_2)\n",
    "                    dist_y = np.linalg.norm(atom_y_1 - atom_y_2)\n",
    "                    sum_value += pow(dist_x-dist_y, 2)\n",
    "                    \n",
    "        return math.sqrt(sum_value/k)\n",
    "    \n",
    "    \n",
    "    def compare_all(self, random_flag=False):\n",
    "        distances = []\n",
    "        for i in range(self.number_of_conformations):\n",
    "            for j in range(self.number_of_conformations):\n",
    "                if i < j:\n",
    "                    distances.append(self.compare(i, j, random_flag))\n",
    "        mean = statistics.mean(distances)\n",
    "        median = statistics.median(distances)\n",
    "        print(f'Mean: {mean}')\n",
    "        print(f'Median: {median}')\n",
    "        plt.hist(distances, bins=10)\n",
    "        plt.title('dRMSD')\n",
    "        plt.xlabel('Distance')\n",
    "        plt.ylabel('Frequency')\n",
    "        plt.show()\n",
    "                    \n"
   ]
  },
  {
   "cell_type": "markdown",
   "id": "6d96cbcd",
   "metadata": {},
   "source": [
    "#### Compute the d-RMSD distances between all ${369 \\choose 2}$ pairs of distances within each conformation\n",
    "**ATTENTION: The execution time of this function is high. It is not recommended to re-execute it if there is not enough time.**"
   ]
  },
  {
   "cell_type": "code",
   "execution_count": 6,
   "id": "1d1ec275",
   "metadata": {},
   "outputs": [
    {
     "name": "stdout",
     "output_type": "stream",
     "text": [
      "Mean: 6.7950321975044385\n",
      "Median: 6.468606946347217\n"
     ]
    },
    {
     "data": {
      "image/png": "[encoded data removed]",
      "text/plain": [
       "<Figure size 432x288 with 1 Axes>"
      ]
     },
     "metadata": {
      "needs_background": "light"
     },
     "output_type": "display_data"
    }
   ],
   "source": [
    "d_rmsd = dRMSD()\n",
    "d_rmsd.compare_all()"
   ]
  },
  {
   "cell_type": "markdown",
   "id": "7b364355",
   "metadata": {},
   "source": [
    "#### Compute the d-RMSD distances between a random subset of k = 3n distances, where n=369"
   ]
  },
  {
   "cell_type": "code",
   "execution_count": 6,
   "id": "ad2b53dc",
   "metadata": {},
   "outputs": [
    {
     "name": "stdout",
     "output_type": "stream",
     "text": [
      "Mean: 6.789508038926164\n",
      "Median: 6.456979538046951\n"
     ]
    },
    {
     "data": {
      "image/png": "[encoded data removed]",
      "text/plain": [
       "<Figure size 432x288 with 1 Axes>"
      ]
     },
     "metadata": {
      "needs_background": "light"
     },
     "output_type": "display_data"
    }
   ],
   "source": [
    "d_rmsd = dRMSD()\n",
    "d_rmsd.compare_all(random_flag=True)"
   ]
  },
  {
   "cell_type": "code",
   "execution_count": null,
   "id": "0494a58c",
   "metadata": {},
   "outputs": [],
   "source": []
  }
 ],
 "metadata": {
  "kernelspec": {
   "display_name": "struc_bio",
   "language": "python",
   "name": "struc_bio"
  },
  "language_info": {
   "codemirror_mode": {
    "name": "ipython",
    "version": 3
   },
   "file_extension": ".py",
   "mimetype": "text/x-python",
   "name": "python",
   "nbconvert_exporter": "python",
   "pygments_lexer": "ipython3",
   "version": "3.8.8"
  }
 },
 "nbformat": 4,
 "nbformat_minor": 5
}
