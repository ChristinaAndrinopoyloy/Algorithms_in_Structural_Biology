{
 "cells": [
  {
   "cell_type": "code",
   "execution_count": 82,
   "metadata": {},
   "outputs": [],
   "source": [
    "import pandas as pd\n",
    "import numpy as np\n",
    "import math\n",
    "from Bio.PDB.PDBParser import PDBParser\n",
    "parser = PDBParser(PERMISSIVE=1)\n",
    "import warnings\n",
    "from Bio.PDB.PDBExceptions import PDBConstructionWarning\n",
    "warnings.simplefilter('ignore', PDBConstructionWarning)"
   ]
  },
  {
   "cell_type": "code",
   "execution_count": 83,
   "metadata": {},
   "outputs": [],
   "source": [
    "def get_characteristics_of_structure(name):\n",
    "    name = name.lower()\n",
    "    structure = parser.get_structure(name, name+'.pdb')\n",
    "\n",
    "    water_counter = 0 \n",
    "    ligands = set()\n",
    "    chains_counter = 0\n",
    "    residues_dict = {}\n",
    "    for model in structure:\n",
    "        for chain in model:\n",
    "            residues_counter = 0\n",
    "            chains_counter += 1\n",
    "            for residue in chain:\n",
    "                hetero_flag = residue.get_id()[0]\n",
    "                if hetero_flag == 'W':\n",
    "                    water_counter += 1\n",
    "                if hetero_flag != ' ' and hetero_flag != 'W': # heteroatom (ligand)\n",
    "                    ligands.add(residue.id[0])\n",
    "                residues_counter += 1\n",
    "#                 for atom in residue:\n",
    "#                     print(atom)\n",
    "            residues_dict[chain.get_id()] = residues_counter\n",
    "\n",
    "    print(f'--------- {name.upper()} ---------')\n",
    "    print(f'The total number of chains is {chains_counter}')        \n",
    "    print('The number of residues per chain is:')\n",
    "    for chain_id, res in residues_dict.items():\n",
    "        print(f'Chain {chain_id} contains {res} residues.')\n",
    "    print(f'Number of water molecules is {water_counter}')\n",
    "    print(f'The ligands that present in the structure are {ligands}')\n",
    "    \n",
    "    return residues_dict, water_counter, ligands"
   ]
  },
  {
   "cell_type": "code",
   "execution_count": 84,
   "metadata": {},
   "outputs": [
    {
     "name": "stdout",
     "output_type": "stream",
     "text": [
      "--------- 7NEH ---------\n",
      "The total number of chains is 4\n",
      "The number of residues per chain is:\n",
      "Chain H contains 468 residues.\n",
      "Chain L contains 387 residues.\n",
      "Chain E contains 296 residues.\n",
      "Chain A contains 3 residues.\n",
      "Number of water molecules is 496\n",
      "The ligands that present in the structure are {'H_NO3', 'H_EDO', 'H_ CL', 'H_SO4', 'H_PEG', 'H_FUC', 'H_NAG'}\n"
     ]
    }
   ],
   "source": [
    "struc_7neh = get_characteristics_of_structure(name='7neh')"
   ]
  },
  {
   "cell_type": "code",
   "execution_count": 85,
   "metadata": {},
   "outputs": [
    {
     "name": "stdout",
     "output_type": "stream",
     "text": [
      "--------- 7NEG ---------\n",
      "The total number of chains is 4\n",
      "The number of residues per chain is:\n",
      "Chain H contains 285 residues.\n",
      "Chain L contains 258 residues.\n",
      "Chain E contains 213 residues.\n",
      "Chain A contains 3 residues.\n",
      "Number of water molecules is 134\n",
      "The ligands that present in the structure are {'H_SO4', 'H_GOL', 'H_FUC', 'H_NAG'}\n"
     ]
    }
   ],
   "source": [
    "struc_7neg = get_characteristics_of_structure(name='7neg')"
   ]
  },
  {
   "cell_type": "markdown",
   "metadata": {},
   "source": [
    "### Determine the R.M.S.D. between receptor binding domain os SARS-COV-2 Spike glycoprotein complex and its mutant"
   ]
  },
  {
   "cell_type": "code",
   "execution_count": 86,
   "metadata": {},
   "outputs": [],
   "source": [
    "def get_RBD_atoms_of_structure(name, start_res_name, start_res_code, stop_res_name, stop_res_code):\n",
    "    name = name.lower()\n",
    "    structure = parser.get_structure(name, name+'.pdb')\n",
    "    rbd_flag = False\n",
    "    receptor_binding_domain = []\n",
    "    residues_list = []\n",
    "\n",
    "    for model in structure:\n",
    "        for chain in model:\n",
    "            counter = 0\n",
    "            if chain.id == 'E': # Spike Glycoprotein\n",
    "                for residue in chain:\n",
    "                    name = residue.get_resname() \n",
    "                    code = int(str(residue).split('=')[2].split(' ')[0])\n",
    "#                     print(chain)\n",
    "#                     print(name)\n",
    "#                     print(code)\n",
    "                        \n",
    "                    if name == start_res_name and code == start_res_code: # start of the receptor binding domain\n",
    "                        print('hello')\n",
    "                        rbd_flag = True                         \n",
    "                    if name == stop_res_name and code == stop_res_code: # end of the receptor binding domain\n",
    "                        residues_list.append((name, code))\n",
    "                        for atom in residue:\n",
    "                            receptor_binding_domain.append((name, code, atom.get_name(), atom.get_coord()))\n",
    "                        rbd_flag = False\n",
    "                        \n",
    "                    if rbd_flag:\n",
    "                        residues_list.append((name, code))\n",
    "                        for atom in residue:\n",
    "                            receptor_binding_domain.append((name, code, atom.get_name(), atom.get_coord()))\n",
    "    return receptor_binding_domain, residues_list"
   ]
  },
  {
   "cell_type": "code",
   "execution_count": 87,
   "metadata": {},
   "outputs": [
    {
     "name": "stdout",
     "output_type": "stream",
     "text": [
      "hello\n",
      "1536\n",
      "[('THR', 333), ('ASN', 334), ('LEU', 335), ('CYS', 336), ('PRO', 337), ('PHE', 338), ('GLY', 339), ('GLU', 340), ('VAL', 341), ('PHE', 342), ('ASN', 343), ('ALA', 344), ('THR', 345), ('ARG', 346), ('PHE', 347), ('ALA', 348), ('SER', 349), ('VAL', 350), ('TYR', 351), ('ALA', 352), ('TRP', 353), ('ASN', 354), ('ARG', 355), ('LYS', 356), ('ARG', 357), ('ILE', 358), ('SER', 359), ('ASN', 360), ('CYS', 361), ('VAL', 362), ('ALA', 363), ('ASP', 364), ('TYR', 365), ('SER', 366), ('VAL', 367), ('LEU', 368), ('TYR', 369), ('ASN', 370), ('SER', 371), ('ALA', 372), ('SER', 373), ('PHE', 374), ('SER', 375), ('THR', 376), ('PHE', 377), ('LYS', 378), ('CYS', 379), ('TYR', 380), ('GLY', 381), ('VAL', 382), ('SER', 383), ('PRO', 384), ('THR', 385), ('LYS', 386), ('LEU', 387), ('ASN', 388), ('ASP', 389), ('LEU', 390), ('CYS', 391), ('PHE', 392), ('THR', 393), ('ASN', 394), ('VAL', 395), ('TYR', 396), ('ALA', 397), ('ASP', 398), ('SER', 399), ('PHE', 400), ('VAL', 401), ('ILE', 402), ('ARG', 403), ('GLY', 404), ('ASP', 405), ('GLU', 406), ('VAL', 407), ('ARG', 408), ('GLN', 409), ('ILE', 410), ('ALA', 411), ('PRO', 412), ('GLY', 413), ('GLN', 414), ('THR', 415), ('GLY', 416), ('LYS', 417), ('ILE', 418), ('ALA', 419), ('ASP', 420), ('TYR', 421), ('ASN', 422), ('TYR', 423), ('LYS', 424), ('LEU', 425), ('PRO', 426), ('ASP', 427), ('ASP', 428), ('PHE', 429), ('THR', 430), ('GLY', 431), ('CYS', 432), ('VAL', 433), ('ILE', 434), ('ALA', 435), ('TRP', 436), ('ASN', 437), ('SER', 438), ('ASN', 439), ('ASN', 440), ('LEU', 441), ('ASP', 442), ('SER', 443), ('LYS', 444), ('VAL', 445), ('GLY', 446), ('GLY', 447), ('ASN', 448), ('TYR', 449), ('ASN', 450), ('TYR', 451), ('LEU', 452), ('TYR', 453), ('ARG', 454), ('LEU', 455), ('PHE', 456), ('ARG', 457), ('LYS', 458), ('SER', 459), ('ASN', 460), ('LEU', 461), ('LYS', 462), ('PRO', 463), ('PHE', 464), ('GLU', 465), ('ARG', 466), ('ASP', 467), ('ILE', 468), ('SER', 469), ('THR', 470), ('GLU', 471), ('ILE', 472), ('TYR', 473), ('GLN', 474), ('ALA', 475), ('GLY', 476), ('SER', 477), ('THR', 478), ('PRO', 479), ('CYS', 480), ('ASN', 481), ('GLY', 482), ('VAL', 483), ('GLU', 484), ('GLY', 485), ('PHE', 486), ('ASN', 487), ('CYS', 488), ('TYR', 489), ('PHE', 490), ('PRO', 491), ('LEU', 492), ('GLN', 493), ('SER', 494), ('TYR', 495), ('GLY', 496), ('PHE', 497), ('GLN', 498), ('PRO', 499), ('THR', 500), ('ASN', 501), ('GLY', 502), ('VAL', 503), ('GLY', 504), ('TYR', 505), ('GLN', 506), ('PRO', 507), ('TYR', 508), ('ARG', 509), ('VAL', 510), ('VAL', 511), ('VAL', 512), ('LEU', 513), ('SER', 514), ('PHE', 515), ('GLU', 516), ('LEU', 517), ('LEU', 518), ('HIS', 519), ('ALA', 520), ('PRO', 521), ('ALA', 522), ('THR', 523), ('VAL', 524), ('CYS', 525), ('GLY', 526)]\n"
     ]
    }
   ],
   "source": [
    "rbd_7neh, residues_7neh = get_RBD_atoms_of_structure(name='7neh', start_res_name='THR', start_res_code=333, stop_res_name='GLY', stop_res_code=526)\n",
    "print(len(rbd_7neh))\n",
    "print(residues_7neh)"
   ]
  },
  {
   "cell_type": "code",
   "execution_count": 88,
   "metadata": {},
   "outputs": [
    {
     "name": "stdout",
     "output_type": "stream",
     "text": [
      "hello\n",
      "1466\n",
      "[('ASN', 334), ('LEU', 335), ('CYS', 336), ('PRO', 337), ('PHE', 338), ('GLY', 339), ('GLU', 340), ('VAL', 341), ('PHE', 342), ('ASN', 343), ('ALA', 344), ('THR', 345), ('ARG', 346), ('PHE', 347), ('ALA', 348), ('SER', 349), ('VAL', 350), ('TYR', 351), ('ALA', 352), ('TRP', 353), ('ASN', 354), ('ARG', 355), ('LYS', 356), ('ARG', 357), ('ILE', 358), ('SER', 359), ('ASN', 360), ('CYS', 361), ('VAL', 362), ('ALA', 363), ('ASP', 364), ('TYR', 365), ('SER', 366), ('VAL', 367), ('LEU', 368), ('TYR', 369), ('ASN', 370), ('SER', 371), ('ALA', 372), ('SER', 373), ('PHE', 374), ('SER', 375), ('THR', 376), ('PHE', 377), ('LYS', 378), ('CYS', 379), ('TYR', 380), ('GLY', 381), ('VAL', 382), ('SER', 383), ('PRO', 384), ('THR', 385), ('LYS', 386), ('LEU', 387), ('ASN', 388), ('ASP', 389), ('LEU', 390), ('CYS', 391), ('PHE', 392), ('THR', 393), ('ASN', 394), ('VAL', 395), ('TYR', 396), ('ALA', 397), ('ASP', 398), ('SER', 399), ('PHE', 400), ('VAL', 401), ('ILE', 402), ('ARG', 403), ('GLY', 404), ('ASP', 405), ('GLU', 406), ('VAL', 407), ('ARG', 408), ('GLN', 409), ('ILE', 410), ('ALA', 411), ('PRO', 412), ('GLY', 413), ('GLN', 414), ('THR', 415), ('GLY', 416), ('LYS', 417), ('ILE', 418), ('ALA', 419), ('ASP', 420), ('TYR', 421), ('ASN', 422), ('TYR', 423), ('LYS', 424), ('LEU', 425), ('PRO', 426), ('ASP', 427), ('ASP', 428), ('PHE', 429), ('THR', 430), ('GLY', 431), ('CYS', 432), ('VAL', 433), ('ILE', 434), ('ALA', 435), ('TRP', 436), ('ASN', 437), ('SER', 438), ('ASN', 439), ('ASN', 440), ('LEU', 441), ('ASP', 442), ('SER', 443), ('LYS', 444), ('VAL', 445), ('GLY', 446), ('GLY', 447), ('ASN', 448), ('TYR', 449), ('ASN', 450), ('TYR', 451), ('LEU', 452), ('TYR', 453), ('ARG', 454), ('LEU', 455), ('PHE', 456), ('ARG', 457), ('LYS', 458), ('SER', 459), ('ASN', 460), ('LEU', 461), ('LYS', 462), ('PRO', 463), ('PHE', 464), ('GLU', 465), ('ARG', 466), ('ASP', 467), ('ILE', 468), ('SER', 469), ('THR', 470), ('GLU', 471), ('ILE', 472), ('TYR', 473), ('GLN', 474), ('ALA', 475), ('GLY', 476), ('SER', 477), ('THR', 478), ('PRO', 479), ('CYS', 480), ('ASN', 481), ('GLY', 482), ('VAL', 483), ('GLU', 484), ('GLY', 485), ('PHE', 486), ('ASN', 487), ('CYS', 488), ('TYR', 489), ('PHE', 490), ('PRO', 491), ('LEU', 492), ('GLN', 493), ('SER', 494), ('TYR', 495), ('GLY', 496), ('PHE', 497), ('GLN', 498), ('PRO', 499), ('THR', 500), ('TYR', 501), ('GLY', 502), ('VAL', 503), ('GLY', 504), ('TYR', 505), ('GLN', 506), ('PRO', 507), ('TYR', 508), ('ARG', 509), ('VAL', 510), ('VAL', 511), ('VAL', 512), ('LEU', 513), ('SER', 514), ('PHE', 515), ('GLU', 516)]\n"
     ]
    }
   ],
   "source": [
    "rbd_7neg, residues_7neg = get_RBD_atoms_of_structure(name='7neg', start_res_name='ASN', start_res_code=334, stop_res_name='GLU', stop_res_code=516)\n",
    "print(len(rbd_7neg))\n",
    "print(residues_7neg)"
   ]
  },
  {
   "cell_type": "code",
   "execution_count": 89,
   "metadata": {},
   "outputs": [],
   "source": [
    "def valid_residues(residues1, residues2, name1, name2):\n",
    "    deleted = []\n",
    "    deleted.append(residues1[0])\n",
    "    deleted.extend(residues1[-10:-1])\n",
    "    deleted.append(residues1[-1]) \n",
    "    residues1 = residues1[1:]\n",
    "    residues1 = residues1[:-9]\n",
    "    \n",
    "    for (res1, res2) in zip(residues1, residues2):\n",
    "        if res1 != res2: # mutations\n",
    "            print(f'The residue {res1} of the {name1} has become {res2} in {name2}')\n",
    "    return residues1, residues2, deleted"
   ]
  },
  {
   "cell_type": "code",
   "execution_count": 90,
   "metadata": {},
   "outputs": [
    {
     "name": "stdout",
     "output_type": "stream",
     "text": [
      "The residue ('ASN', 501) of the 7NEH has become ('TYR', 501) in 7NEG\n"
     ]
    },
    {
     "data": {
      "text/plain": [
       "[('THR', 333),\n",
       " ('LEU', 517),\n",
       " ('LEU', 518),\n",
       " ('HIS', 519),\n",
       " ('ALA', 520),\n",
       " ('PRO', 521),\n",
       " ('ALA', 522),\n",
       " ('THR', 523),\n",
       " ('VAL', 524),\n",
       " ('CYS', 525),\n",
       " ('GLY', 526)]"
      ]
     },
     "execution_count": 90,
     "metadata": {},
     "output_type": "execute_result"
    }
   ],
   "source": [
    "residues_7neh_final, residues_7neg_final, deleted = valid_residues(residues_7neh, residues_7neg, '7NEH', '7NEG')\n",
    "deleted"
   ]
  },
  {
   "cell_type": "code",
   "execution_count": 91,
   "metadata": {},
   "outputs": [],
   "source": [
    "def clean_rbd(rbd_list, deleted):\n",
    "    for_deletion = []\n",
    "    \n",
    "    for item in rbd_list:\n",
    "        residue_name = item[0]\n",
    "        residue_code = item[1]\n",
    "        if (residue_name, residue_code) in deleted:\n",
    "            for_deletion.append(item)\n",
    "    \n",
    "    for item in for_deletion: \n",
    "        rbd_list.remove(item)\n",
    "    return rbd_list  "
   ]
  },
  {
   "cell_type": "code",
   "execution_count": 92,
   "metadata": {},
   "outputs": [
    {
     "name": "stdout",
     "output_type": "stream",
     "text": [
      "1536\n",
      "1462\n"
     ]
    }
   ],
   "source": [
    "print(len(rbd_7neh))\n",
    "rbd_7neh = clean_rbd(rbd_7neh, deleted)\n",
    "print(len(rbd_7neh))"
   ]
  },
  {
   "cell_type": "code",
   "execution_count": 93,
   "metadata": {},
   "outputs": [],
   "source": [
    "def write_CA_at_txt(rbd_list, filename):\n",
    "    ca = []\n",
    "    for item in rbd_list:\n",
    "        residue_name = item[0]\n",
    "        residue_code = item[1]\n",
    "        atom = item[2]\n",
    "        coordinates = item[3]\n",
    "        if atom == 'CA':\n",
    "            ca.append((coordinates[0], coordinates[1], coordinates[2]))\n",
    "            \n",
    "    with open(filename, 'w') as fp:\n",
    "        fp.write('\\n'.join('%s %s %s' % x for x in ca))"
   ]
  },
  {
   "cell_type": "code",
   "execution_count": 94,
   "metadata": {},
   "outputs": [],
   "source": [
    "write_CA_at_txt(rbd_7neh, 'CA_7NEH.txt')\n",
    "write_CA_at_txt(rbd_7neg, 'CA_7NEG.txt')"
   ]
  },
  {
   "cell_type": "code",
   "execution_count": 99,
   "metadata": {},
   "outputs": [],
   "source": [
    "def write_atoms_at_txt(rbd_list, filename):\n",
    "    ca = []\n",
    "    for item in rbd_list:\n",
    "        residue_name = item[0]\n",
    "        residue_code = item[1]\n",
    "        atom = item[2]\n",
    "        coordinates = item[3]\n",
    "        ca.append((coordinates[0], coordinates[1], coordinates[2]))\n",
    "            \n",
    "    with open(filename, 'w') as fp:\n",
    "        fp.write('\\n'.join('%s %s %s' % x for x in ca))"
   ]
  },
  {
   "cell_type": "code",
   "execution_count": 102,
   "metadata": {},
   "outputs": [],
   "source": [
    "write_atoms_at_txt(rbd_7neh, 'ATOMS_7NEH.txt')\n",
    "write_atoms_at_txt(rbd_7neg, 'ATOMS_7NEG.txt')"
   ]
  },
  {
   "cell_type": "code",
   "execution_count": 97,
   "metadata": {},
   "outputs": [],
   "source": [
    "class cRMSD:\n",
    "    def __init__(self, filename1, filename2):\n",
    "        self.filename1 = filename1\n",
    "        self.filename2 = filename2\n",
    "        self.conformations, self.number_of_atoms = self.read_conformations()\n",
    "        self.centroid_1 = []\n",
    "        self.centroid_2 = []\n",
    "        self.U = np.empty((3,3))\n",
    "        self.Sigma = np.empty((0,3))\n",
    "        self.VT = np.empty((3,3))\n",
    "        self.Q = np.empty((3,3))\n",
    "        \n",
    "    \n",
    "    # read the conformations from the txt file\n",
    "    def read_conformations(self):     \n",
    "        conformations_dict = dict()\n",
    "        df1 = pd.read_csv(self.filename1, delimiter = \" \", header=None)\n",
    "        df2 = pd.read_csv(self.filename2, delimiter = \" \", header=None)\n",
    "        conformations_dict[0] = df1\n",
    "        conformations_dict[1] = df2\n",
    "        return conformations_dict, df1.shape[0]\n",
    "        \n",
    "        \n",
    "    # calculate the centroid\n",
    "    def find_centroid(self, conformation1, conformation2):\n",
    "        sum_result1 = conformation1.sum(axis = 0)\n",
    "        sum_result2 = conformation2.sum(axis = 0)\n",
    "        self.centroid_1 = [sum_result1[i]/self.number_of_atoms for i in range(len(sum_result1))]\n",
    "        self.centroid_2 = [sum_result2[i]/self.number_of_atoms for i in range(len(sum_result2))]\n",
    "        \n",
    "        \n",
    "    # move the conformations to the origin\n",
    "    def move_to_origin(self, conformation1, conformation2):\n",
    "        number_of_cols = conformation1.shape[1]\n",
    "        for i in range(number_of_cols):\n",
    "            conformation1[i] -= self.centroid_1[i]\n",
    "            conformation2[i] -= self.centroid_2[i]\n",
    "        return conformation1, conformation2\n",
    "        \n",
    "       \n",
    "    # find best tranformation of one conformation, using SVD\n",
    "    def SVD_process(self, conformation1, conformation2):\n",
    "        XT_Y = np.matmul(conformation1.T.to_numpy(), conformation2.to_numpy())\n",
    "        self.U, self.Sigma, self.VT = np.linalg.svd(XT_Y)\n",
    "        self.Q = np.matmul(self.U, self.VT)\n",
    "        detQ = np.linalg.det(self.Q)\n",
    "        if detQ < 0:\n",
    "            self.U[2] = -self.U[2]\n",
    "            self.Q = np.matmul(self.U, self.VT)        \n",
    "        \n",
    "    \n",
    "    # calculate cRMSD\n",
    "    def cRMSD_distance(self, conformation1, conformation2):\n",
    "        temp = np.matmul(conformation1.to_numpy(), self.Q) - conformation2.to_numpy()\n",
    "    \n",
    "        sum_norms = 0\n",
    "        for i in range(temp.shape[0]):\n",
    "            sum_norms += pow(np.linalg.norm(temp[i]),2)\n",
    "        return math.sqrt(sum_norms/self.number_of_atoms)\n",
    "     \n",
    "       \n",
    "    # compare two conformations\n",
    "    def compare(self, conformation1, conformation2, print_flag=False):\n",
    "        self.find_centroid(conformation1, conformation2)\n",
    "        conformation1, conformation2 = self.move_to_origin(conformation1, conformation2)\n",
    "        self.SVD_process(conformation1, conformation2)\n",
    "        c_rmsd = self.cRMSD_distance(conformation1, conformation2)\n",
    "        if print_flag:\n",
    "            print(f'cRMSD = {c_rmsd}')\n",
    "        return c_rmsd\n",
    "    \n",
    "    \n",
    "    def pipeline(self):\n",
    "        self.read_conformations()\n",
    "        self.compare(conformation1=self.conformations[0], conformation2=self.conformations[1], print_flag=True)"
   ]
  },
  {
   "cell_type": "code",
   "execution_count": 101,
   "metadata": {},
   "outputs": [
    {
     "name": "stdout",
     "output_type": "stream",
     "text": [
      "cRMSD = 0.29239686356608174\n"
     ]
    }
   ],
   "source": [
    "crmsd = cRMSD(filename1='ATOMS_7NEH.txt', filename2='ATOMS_7NEG.txt')\n",
    "crmsd.pipeline()"
   ]
  },
  {
   "cell_type": "code",
   "execution_count": 98,
   "metadata": {},
   "outputs": [
    {
     "name": "stdout",
     "output_type": "stream",
     "text": [
      "cRMSD = 0.29239686356608174\n"
     ]
    }
   ],
   "source": [
    "crmsd = cRMSD(filename1='CA_7NEH.txt', filename2='CA_7NEG.txt')\n",
    "crmsd.pipeline()"
   ]
  },
  {
   "cell_type": "code",
   "execution_count": null,
   "metadata": {},
   "outputs": [],
   "source": []
  },
  {
   "cell_type": "code",
   "execution_count": null,
   "metadata": {},
   "outputs": [],
   "source": []
  },
  {
   "cell_type": "code",
   "execution_count": null,
   "metadata": {},
   "outputs": [],
   "source": []
  },
  {
   "cell_type": "code",
   "execution_count": 15,
   "metadata": {},
   "outputs": [],
   "source": [
    "# def get_atoms_of_structure(name):\n",
    "#     name = name.lower()\n",
    "#     structure = parser.get_structure(name, name+'.pdb')\n",
    "\n",
    "#     receptor_binding_domain = []\n",
    "\n",
    "#     for model in structure:\n",
    "#         for chain in model:\n",
    "#             for residue in chain:\n",
    "#                 name = residue.get_resname() \n",
    "#                 code = int(str(residue).split('=')[2].split(' ')[0])\n",
    "\n",
    "#                 for atom in residue:\n",
    "#                     receptor_binding_domain.append((name, code, atom.get_name(), atom.get_coord()))\n",
    "                    \n",
    "#     return receptor_binding_domain"
   ]
  },
  {
   "cell_type": "code",
   "execution_count": 16,
   "metadata": {},
   "outputs": [],
   "source": [
    "# atoms_7neh = get_atoms_of_structure(name='7neh')\n",
    "# print(len(atoms_7neh))"
   ]
  },
  {
   "cell_type": "code",
   "execution_count": 17,
   "metadata": {},
   "outputs": [],
   "source": [
    "# atoms_7neg = get_atoms_of_structure(name='7neg')\n",
    "# print(len(atoms_7neg))"
   ]
  },
  {
   "cell_type": "code",
   "execution_count": null,
   "metadata": {},
   "outputs": [],
   "source": []
  }
 ],
 "metadata": {
  "kernelspec": {
   "display_name": "Python 3",
   "language": "python",
   "name": "python3"
  },
  "language_info": {
   "codemirror_mode": {
    "name": "ipython",
    "version": 3
   },
   "file_extension": ".py",
   "mimetype": "text/x-python",
   "name": "python",
   "nbconvert_exporter": "python",
   "pygments_lexer": "ipython3",
   "version": "3.8.5"
  }
 },
 "nbformat": 4,
 "nbformat_minor": 4
}
