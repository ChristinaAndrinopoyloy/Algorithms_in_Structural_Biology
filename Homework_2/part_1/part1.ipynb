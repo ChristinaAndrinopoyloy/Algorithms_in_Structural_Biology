{
 "cells": [
  {
   "cell_type": "markdown",
   "metadata": {},
   "source": [
    "# Algorithms in Structural Biology\n",
    "## Assignment 2 \n",
    "### Part 1\n",
    "##### Andrinopoulou Christina (ds2200013)"
   ]
  },
  {
   "cell_type": "markdown",
   "metadata": {},
   "source": [
    "First of all, we import some packages that we are going to use. If you followed the instructions of the README and you activated the enviroment struc_bio the next cell will be executed without any problem, otherwise you should install the packages that are not installed in your PC. "
   ]
  },
  {
   "cell_type": "code",
   "execution_count": 1,
   "metadata": {},
   "outputs": [],
   "source": [
    "import pandas as pd\n",
    "import numpy as np\n",
    "import math\n",
    "from Bio.PDB.PDBParser import PDBParser\n",
    "parser = PDBParser(PERMISSIVE=1)\n",
    "import warnings\n",
    "from Bio.PDB.PDBExceptions import PDBConstructionWarning\n",
    "warnings.simplefilter('ignore', PDBConstructionWarning)"
   ]
  },
  {
   "cell_type": "markdown",
   "metadata": {},
   "source": [
    "### Structure Information\n",
    "\n",
    "The function *get_characteristics_of_structure* takes as input a PDB ID that corresponds to the name of the PDB file that contains the structure and prints some properties. Actually, the function prints the answers for the first question of the part 1 of this assignment.\n",
    "\n",
    "This function utilizes the parser of the Bio.PDB and reads a PDB file. It finds the number of the chains, the number of residues per chain (including or not the ligands and the water molecules), the number of the water molecules and the ligands in the structure."
   ]
  },
  {
   "cell_type": "code",
   "execution_count": 2,
   "metadata": {},
   "outputs": [],
   "source": [
    "def get_characteristics_of_structure(name):\n",
    "    name = name.lower()\n",
    "    structure = parser.get_structure(name, name+'.pdb')\n",
    "\n",
    "    water_counter = 0 \n",
    "    ligands = set()\n",
    "    chains_counter = 0\n",
    "    residues_dict = {}\n",
    "    for model in structure:\n",
    "        for chain in model:\n",
    "            residues_counter = 0\n",
    "            residues_counter_without = 0\n",
    "            chains_counter += 1\n",
    "            for residue in chain:\n",
    "                flag = False\n",
    "                hetero_flag = residue.get_id()[0]\n",
    "                if hetero_flag == 'W':\n",
    "                    flag = True\n",
    "                    water_counter += 1\n",
    "                if hetero_flag != ' ' and hetero_flag != 'W': # heteroatom (ligand)\n",
    "                    flag = True\n",
    "                    ligands.add(residue.id[0])\n",
    "                residues_counter += 1\n",
    "                if not flag:\n",
    "                    residues_counter_without += 1\n",
    "            residues_dict[chain.get_id()] = (residues_counter, residues_counter_without)\n",
    "\n",
    "    print(f'--------- {name.upper()} ---------')\n",
    "    print(f'The total number of chains is {chains_counter}')        \n",
    "    print('The number of residues per chain is:')\n",
    "    for chain_id, res in residues_dict.items():\n",
    "        print(f'Chain {chain_id} contains {res[0]} residues (with ligands and water molecules) and {res[1]} residues (without).')\n",
    "    print(f'Number of water molecules is {water_counter}')\n",
    "    print(f'The ligands that present in the structure are {ligands}')\n",
    "    \n",
    "    return residues_dict, water_counter, ligands"
   ]
  },
  {
   "cell_type": "code",
   "execution_count": 3,
   "metadata": {},
   "outputs": [
    {
     "name": "stdout",
     "output_type": "stream",
     "text": [
      "--------- 7NEH ---------\n",
      "The total number of chains is 4\n",
      "The number of residues per chain is:\n",
      "Chain H contains 468 residues (with ligands and water molecules) and 219 residues (without).\n",
      "Chain L contains 387 residues (with ligands and water molecules) and 215 residues (without).\n",
      "Chain E contains 296 residues (with ligands and water molecules) and 196 residues (without).\n",
      "Chain A contains 3 residues (with ligands and water molecules) and 0 residues (without).\n",
      "Number of water molecules is 496\n",
      "The ligands that present in the structure are {'H_ CL', 'H_NO3', 'H_NAG', 'H_EDO', 'H_PEG', 'H_FUC', 'H_SO4'}\n"
     ]
    }
   ],
   "source": [
    "struc_7neh = get_characteristics_of_structure(name='7neh')"
   ]
  },
  {
   "cell_type": "code",
   "execution_count": 4,
   "metadata": {},
   "outputs": [
    {
     "name": "stdout",
     "output_type": "stream",
     "text": [
      "--------- 7NEG ---------\n",
      "The total number of chains is 4\n",
      "The number of residues per chain is:\n",
      "Chain H contains 285 residues (with ligands and water molecules) and 217 residues (without).\n",
      "Chain L contains 258 residues (with ligands and water molecules) and 214 residues (without).\n",
      "Chain E contains 213 residues (with ligands and water molecules) and 183 residues (without).\n",
      "Chain A contains 3 residues (with ligands and water molecules) and 0 residues (without).\n",
      "Number of water molecules is 134\n",
      "The ligands that present in the structure are {'H_NAG', 'H_GOL', 'H_FUC', 'H_SO4'}\n"
     ]
    }
   ],
   "source": [
    "struc_7neg = get_characteristics_of_structure(name='7neg')"
   ]
  },
  {
   "cell_type": "markdown",
   "metadata": {},
   "source": [
    "### Determine the R.M.S.D. between receptor binding domain of SARS-COV-2 Spike glycoprotein complex and its mutant\n",
    "At this step, we want to calculate the cRMSD between the receptor binding domain of SARS-COV-2 Spike glycoprotein complex and its mutant. For this purpose, we use only the E chain for both of the structures. \n",
    "\n",
    "The function below takes as input a PDB ID that corresponds to the name of the PDB file of the structure that we examine. Also, it takes the borders of the structure. The borders are the residue names and the residue numbers for the start and the end of the part of the chain that we examine. There are more details in the report for this selection of the border.\n",
    "\n",
    "The function uses the parser of Bio.PDB and returns the residues (in the borders) and the corresponding atoms with their 3D coordinates."
   ]
  },
  {
   "cell_type": "code",
   "execution_count": 5,
   "metadata": {},
   "outputs": [],
   "source": [
    "def get_RBD_atoms_of_structure(name, start_res_name, start_res_code, stop_res_name, stop_res_code):\n",
    "    name = name.lower()\n",
    "    structure = parser.get_structure(name, name+'.pdb')\n",
    "    rbd_flag = False\n",
    "    receptor_binding_domain = []\n",
    "    residues_list = []\n",
    "\n",
    "    for model in structure:\n",
    "        for chain in model:\n",
    "            counter = 0\n",
    "            if chain.id == 'E': # Spike Glycoprotein\n",
    "                for residue in chain:\n",
    "                    name = residue.get_resname() \n",
    "                    code = int(str(residue).split('=')[2].split(' ')[0])\n",
    "                        \n",
    "                    if name == start_res_name and code == start_res_code: # start of the receptor binding domain\n",
    "                        rbd_flag = True                         \n",
    "                    if name == stop_res_name and code == stop_res_code: # end of the receptor binding domain\n",
    "                        residues_list.append((name, code))\n",
    "                        for atom in residue:\n",
    "                            receptor_binding_domain.append((name, code, atom.get_name(), atom.get_coord()))\n",
    "                        rbd_flag = False\n",
    "                        \n",
    "                    if rbd_flag:\n",
    "                        residues_list.append((name, code))\n",
    "                        for atom in residue:\n",
    "                            receptor_binding_domain.append((name, code, atom.get_name(), atom.get_coord()))\n",
    "    return receptor_binding_domain, residues_list"
   ]
  },
  {
   "cell_type": "code",
   "execution_count": 6,
   "metadata": {},
   "outputs": [
    {
     "name": "stdout",
     "output_type": "stream",
     "text": [
      "[('ASN', 334), ('LEU', 335), ('CYS', 336), ('PRO', 337), ('PHE', 338), ('GLY', 339), ('GLU', 340), ('VAL', 341), ('PHE', 342), ('ASN', 343), ('ALA', 344), ('THR', 345), ('ARG', 346), ('PHE', 347), ('ALA', 348), ('SER', 349), ('VAL', 350), ('TYR', 351), ('ALA', 352), ('TRP', 353), ('ASN', 354), ('ARG', 355), ('LYS', 356), ('ARG', 357), ('ILE', 358), ('SER', 359), ('ASN', 360), ('CYS', 361), ('VAL', 362), ('ALA', 363), ('ASP', 364), ('TYR', 365), ('SER', 366), ('VAL', 367), ('LEU', 368), ('TYR', 369), ('ASN', 370), ('SER', 371), ('ALA', 372), ('SER', 373), ('PHE', 374), ('SER', 375), ('THR', 376), ('PHE', 377), ('LYS', 378), ('CYS', 379), ('TYR', 380), ('GLY', 381), ('VAL', 382), ('SER', 383), ('PRO', 384), ('THR', 385), ('LYS', 386), ('LEU', 387), ('ASN', 388), ('ASP', 389), ('LEU', 390), ('CYS', 391), ('PHE', 392), ('THR', 393), ('ASN', 394), ('VAL', 395), ('TYR', 396), ('ALA', 397), ('ASP', 398), ('SER', 399), ('PHE', 400), ('VAL', 401), ('ILE', 402), ('ARG', 403), ('GLY', 404), ('ASP', 405), ('GLU', 406), ('VAL', 407), ('ARG', 408), ('GLN', 409), ('ILE', 410), ('ALA', 411), ('PRO', 412), ('GLY', 413), ('GLN', 414), ('THR', 415), ('GLY', 416), ('LYS', 417), ('ILE', 418), ('ALA', 419), ('ASP', 420), ('TYR', 421), ('ASN', 422), ('TYR', 423), ('LYS', 424), ('LEU', 425), ('PRO', 426), ('ASP', 427), ('ASP', 428), ('PHE', 429), ('THR', 430), ('GLY', 431), ('CYS', 432), ('VAL', 433), ('ILE', 434), ('ALA', 435), ('TRP', 436), ('ASN', 437), ('SER', 438), ('ASN', 439), ('ASN', 440), ('LEU', 441), ('ASP', 442), ('SER', 443), ('LYS', 444), ('VAL', 445), ('GLY', 446), ('GLY', 447), ('ASN', 448), ('TYR', 449), ('ASN', 450), ('TYR', 451), ('LEU', 452), ('TYR', 453), ('ARG', 454), ('LEU', 455), ('PHE', 456), ('ARG', 457), ('LYS', 458), ('SER', 459), ('ASN', 460), ('LEU', 461), ('LYS', 462), ('PRO', 463), ('PHE', 464), ('GLU', 465), ('ARG', 466), ('ASP', 467), ('ILE', 468), ('SER', 469), ('THR', 470), ('GLU', 471), ('ILE', 472), ('TYR', 473), ('GLN', 474), ('ALA', 475), ('GLY', 476), ('SER', 477), ('THR', 478), ('PRO', 479), ('CYS', 480), ('ASN', 481), ('GLY', 482), ('VAL', 483), ('GLU', 484), ('GLY', 485), ('PHE', 486), ('ASN', 487), ('CYS', 488), ('TYR', 489), ('PHE', 490), ('PRO', 491), ('LEU', 492), ('GLN', 493), ('SER', 494), ('TYR', 495), ('GLY', 496), ('PHE', 497), ('GLN', 498), ('PRO', 499), ('THR', 500), ('ASN', 501), ('GLY', 502), ('VAL', 503), ('GLY', 504), ('TYR', 505), ('GLN', 506), ('PRO', 507), ('TYR', 508), ('ARG', 509), ('VAL', 510), ('VAL', 511), ('VAL', 512), ('LEU', 513), ('SER', 514), ('PHE', 515), ('GLU', 516)]\n"
     ]
    }
   ],
   "source": [
    "rbd_7neh, residues_7neh = get_RBD_atoms_of_structure(name='7neh', start_res_name='ASN', start_res_code=334, stop_res_name='GLU', stop_res_code=516)\n",
    "print(residues_7neh)"
   ]
  },
  {
   "cell_type": "code",
   "execution_count": 7,
   "metadata": {},
   "outputs": [
    {
     "name": "stdout",
     "output_type": "stream",
     "text": [
      "[('ASN', 334), ('LEU', 335), ('CYS', 336), ('PRO', 337), ('PHE', 338), ('GLY', 339), ('GLU', 340), ('VAL', 341), ('PHE', 342), ('ASN', 343), ('ALA', 344), ('THR', 345), ('ARG', 346), ('PHE', 347), ('ALA', 348), ('SER', 349), ('VAL', 350), ('TYR', 351), ('ALA', 352), ('TRP', 353), ('ASN', 354), ('ARG', 355), ('LYS', 356), ('ARG', 357), ('ILE', 358), ('SER', 359), ('ASN', 360), ('CYS', 361), ('VAL', 362), ('ALA', 363), ('ASP', 364), ('TYR', 365), ('SER', 366), ('VAL', 367), ('LEU', 368), ('TYR', 369), ('ASN', 370), ('SER', 371), ('ALA', 372), ('SER', 373), ('PHE', 374), ('SER', 375), ('THR', 376), ('PHE', 377), ('LYS', 378), ('CYS', 379), ('TYR', 380), ('GLY', 381), ('VAL', 382), ('SER', 383), ('PRO', 384), ('THR', 385), ('LYS', 386), ('LEU', 387), ('ASN', 388), ('ASP', 389), ('LEU', 390), ('CYS', 391), ('PHE', 392), ('THR', 393), ('ASN', 394), ('VAL', 395), ('TYR', 396), ('ALA', 397), ('ASP', 398), ('SER', 399), ('PHE', 400), ('VAL', 401), ('ILE', 402), ('ARG', 403), ('GLY', 404), ('ASP', 405), ('GLU', 406), ('VAL', 407), ('ARG', 408), ('GLN', 409), ('ILE', 410), ('ALA', 411), ('PRO', 412), ('GLY', 413), ('GLN', 414), ('THR', 415), ('GLY', 416), ('LYS', 417), ('ILE', 418), ('ALA', 419), ('ASP', 420), ('TYR', 421), ('ASN', 422), ('TYR', 423), ('LYS', 424), ('LEU', 425), ('PRO', 426), ('ASP', 427), ('ASP', 428), ('PHE', 429), ('THR', 430), ('GLY', 431), ('CYS', 432), ('VAL', 433), ('ILE', 434), ('ALA', 435), ('TRP', 436), ('ASN', 437), ('SER', 438), ('ASN', 439), ('ASN', 440), ('LEU', 441), ('ASP', 442), ('SER', 443), ('LYS', 444), ('VAL', 445), ('GLY', 446), ('GLY', 447), ('ASN', 448), ('TYR', 449), ('ASN', 450), ('TYR', 451), ('LEU', 452), ('TYR', 453), ('ARG', 454), ('LEU', 455), ('PHE', 456), ('ARG', 457), ('LYS', 458), ('SER', 459), ('ASN', 460), ('LEU', 461), ('LYS', 462), ('PRO', 463), ('PHE', 464), ('GLU', 465), ('ARG', 466), ('ASP', 467), ('ILE', 468), ('SER', 469), ('THR', 470), ('GLU', 471), ('ILE', 472), ('TYR', 473), ('GLN', 474), ('ALA', 475), ('GLY', 476), ('SER', 477), ('THR', 478), ('PRO', 479), ('CYS', 480), ('ASN', 481), ('GLY', 482), ('VAL', 483), ('GLU', 484), ('GLY', 485), ('PHE', 486), ('ASN', 487), ('CYS', 488), ('TYR', 489), ('PHE', 490), ('PRO', 491), ('LEU', 492), ('GLN', 493), ('SER', 494), ('TYR', 495), ('GLY', 496), ('PHE', 497), ('GLN', 498), ('PRO', 499), ('THR', 500), ('TYR', 501), ('GLY', 502), ('VAL', 503), ('GLY', 504), ('TYR', 505), ('GLN', 506), ('PRO', 507), ('TYR', 508), ('ARG', 509), ('VAL', 510), ('VAL', 511), ('VAL', 512), ('LEU', 513), ('SER', 514), ('PHE', 515), ('GLU', 516)]\n"
     ]
    }
   ],
   "source": [
    "rbd_7neg, residues_7neg = get_RBD_atoms_of_structure(name='7neg', start_res_name='ASN', start_res_code=334, stop_res_name='GLU', stop_res_code=516)\n",
    "print(residues_7neg)"
   ]
  },
  {
   "cell_type": "markdown",
   "metadata": {},
   "source": [
    "The function below checks all the residues for two structures and prints the mutations. In other words, it checks if one residue of the first structure is mutated in the second structure and prints the suitable message.\n",
    "\n",
    "In this case, the residue at position 501 was an Asparagine in 7NEH and became a Tyrosine in 7NEG."
   ]
  },
  {
   "cell_type": "code",
   "execution_count": 8,
   "metadata": {},
   "outputs": [],
   "source": [
    "def find_mutations(residues1, residues2, name1, name2):    \n",
    "    for (res1, res2) in zip(residues1, residues2):\n",
    "        if res1 != res2: # mutations\n",
    "            print(f'The residue {res1} of the {name1} has become {res2} in {name2}')"
   ]
  },
  {
   "cell_type": "code",
   "execution_count": 9,
   "metadata": {},
   "outputs": [
    {
     "name": "stdout",
     "output_type": "stream",
     "text": [
      "The residue ('ASN', 501) of the 7NEH has become ('TYR', 501) in 7NEG\n"
     ]
    }
   ],
   "source": [
    "find_mutations(residues_7neh, residues_7neg, '7NEH', '7NEG')"
   ]
  },
  {
   "cell_type": "markdown",
   "metadata": {},
   "source": [
    "The function below writes the coordinates of the Ca atoms in a txt file."
   ]
  },
  {
   "cell_type": "code",
   "execution_count": 10,
   "metadata": {},
   "outputs": [],
   "source": [
    "def write_CA_at_txt(rbd_list, filename):\n",
    "    ca = []\n",
    "    for item in rbd_list:\n",
    "        residue_name = item[0]\n",
    "        residue_code = item[1]\n",
    "        atom = item[2]\n",
    "        coordinates = item[3]\n",
    "        if atom == 'CA':\n",
    "            ca.append((coordinates[0], coordinates[1], coordinates[2]))\n",
    "            \n",
    "    with open(filename, 'w') as fp:\n",
    "        fp.write('\\n'.join('%s %s %s' % x for x in ca))"
   ]
  },
  {
   "cell_type": "code",
   "execution_count": 11,
   "metadata": {},
   "outputs": [],
   "source": [
    "write_CA_at_txt(rbd_7neh, 'CA_7NEH.txt')\n",
    "write_CA_at_txt(rbd_7neg, 'CA_7NEG.txt')"
   ]
  },
  {
   "cell_type": "markdown",
   "metadata": {},
   "source": [
    "The function *write_atoms_at_txt* writes all the atoms of the residues in a txt file. In case of the Asparagine and the Tyrosine the function writes only the atoms that are common into two structures."
   ]
  },
  {
   "cell_type": "code",
   "execution_count": 12,
   "metadata": {},
   "outputs": [],
   "source": [
    "def write_atoms_at_txt(rbd_list, filename):\n",
    "    atoms = []\n",
    "    excluded_7neh = ['OD1', 'ND2']\n",
    "    excluded_7neg = ['CD1', 'CD2', 'CE1', 'CE2', 'CZ', 'OH']\n",
    "    for item in rbd_list:\n",
    "        residue_name = item[0]\n",
    "        residue_code = item[1]\n",
    "        atom = item[2]\n",
    "        coordinates = item[3]\n",
    "        if residue_code == 501:\n",
    "            if residue_name == 'ASN':\n",
    "                if atom in excluded_7neh:\n",
    "                    continue\n",
    "            if residue_name == 'TYR':\n",
    "                if atom in excluded_7neg:\n",
    "                    continue\n",
    "        atoms.append((coordinates[0], coordinates[1], coordinates[2]))\n",
    "            \n",
    "    with open(filename, 'w') as fp:\n",
    "        fp.write('\\n'.join('%s %s %s' % x for x in atoms))"
   ]
  },
  {
   "cell_type": "code",
   "execution_count": 13,
   "metadata": {},
   "outputs": [],
   "source": [
    "write_atoms_at_txt(rbd_7neh, 'ATOMS_7NEH.txt')\n",
    "write_atoms_at_txt(rbd_7neg, 'ATOMS_7NEG.txt')"
   ]
  },
  {
   "cell_type": "markdown",
   "metadata": {},
   "source": [
    "## cRMSD\n",
    "\n",
    "The class *cRMSD* contains all the appropriate functions for the calculation of the cRMSD distance between two structures. This class was implemented for the first assignment of the course and we use it here with some modifications in the way that read the inputs.\n",
    "\n",
    "Steps of algorithm:\n",
    "- Find the centroid of each conformation \n",
    "- Move the conformations to the origin of the space: Subtract the centroids from each coordinate\n",
    "- Singular Value Decomposition (SVD): best transformation Q for the conformation \n",
    "- Apply transformation to a conformation \n",
    "- Calculate the corresponding cRMSD distance"
   ]
  },
  {
   "cell_type": "code",
   "execution_count": 14,
   "metadata": {},
   "outputs": [],
   "source": [
    "class cRMSD:\n",
    "    def __init__(self, filename1, filename2):\n",
    "        self.filename1 = filename1\n",
    "        self.filename2 = filename2\n",
    "        self.conformations, self.number_of_atoms = self.read_conformations()\n",
    "        self.centroid_1 = []\n",
    "        self.centroid_2 = []\n",
    "        self.U = np.empty((3,3))\n",
    "        self.Sigma = np.empty((0,3))\n",
    "        self.VT = np.empty((3,3))\n",
    "        self.Q = np.empty((3,3))\n",
    "        \n",
    "    \n",
    "    # read the conformations from the txt file\n",
    "    def read_conformations(self):     \n",
    "        conformations_dict = dict()\n",
    "        df1 = pd.read_csv(self.filename1, delimiter = \" \", header=None)\n",
    "        df2 = pd.read_csv(self.filename2, delimiter = \" \", header=None)\n",
    "        conformations_dict[0] = df1\n",
    "        conformations_dict[1] = df2\n",
    "        return conformations_dict, df1.shape[0]\n",
    "        \n",
    "        \n",
    "    # calculate the centroid\n",
    "    def find_centroid(self, conformation1, conformation2):\n",
    "        sum_result1 = conformation1.sum(axis = 0)\n",
    "        sum_result2 = conformation2.sum(axis = 0)\n",
    "        self.centroid_1 = [sum_result1[i]/self.number_of_atoms for i in range(len(sum_result1))]\n",
    "        self.centroid_2 = [sum_result2[i]/self.number_of_atoms for i in range(len(sum_result2))]\n",
    "        \n",
    "        \n",
    "    # move the conformations to the origin\n",
    "    def move_to_origin(self, conformation1, conformation2):\n",
    "        number_of_cols = conformation1.shape[1]\n",
    "        for i in range(number_of_cols):\n",
    "            conformation1[i] -= self.centroid_1[i]\n",
    "            conformation2[i] -= self.centroid_2[i]\n",
    "        return conformation1, conformation2\n",
    "        \n",
    "       \n",
    "    # find best tranformation of one conformation, using SVD\n",
    "    def SVD_process(self, conformation1, conformation2):\n",
    "        XT_Y = np.matmul(conformation1.T.to_numpy(), conformation2.to_numpy())\n",
    "        self.U, self.Sigma, self.VT = np.linalg.svd(XT_Y)\n",
    "        self.Q = np.matmul(self.U, self.VT)\n",
    "        detQ = np.linalg.det(self.Q)\n",
    "        if detQ < 0:\n",
    "            self.U[2] = -self.U[2]\n",
    "            self.Q = np.matmul(self.U, self.VT)        \n",
    "        \n",
    "    \n",
    "    # calculate cRMSD\n",
    "    def cRMSD_distance(self, conformation1, conformation2):\n",
    "        temp = np.matmul(conformation1.to_numpy(), self.Q) - conformation2.to_numpy()\n",
    "    \n",
    "        sum_norms = 0\n",
    "        for i in range(temp.shape[0]):\n",
    "            sum_norms += pow(np.linalg.norm(temp[i]),2)\n",
    "        return math.sqrt(sum_norms/self.number_of_atoms)\n",
    "     \n",
    "       \n",
    "    # compare two conformations\n",
    "    def compare(self, conformation1, conformation2, print_flag=False):\n",
    "        self.find_centroid(conformation1, conformation2)\n",
    "        conformation1, conformation2 = self.move_to_origin(conformation1, conformation2)\n",
    "        self.SVD_process(conformation1, conformation2)\n",
    "        c_rmsd = self.cRMSD_distance(conformation1, conformation2)\n",
    "        if print_flag:\n",
    "            print(f'cRMSD = {c_rmsd}')\n",
    "        return c_rmsd\n",
    "    \n",
    "    \n",
    "    def pipeline(self):\n",
    "        self.read_conformations()\n",
    "        self.compare(conformation1=self.conformations[0], conformation2=self.conformations[1], print_flag=True)"
   ]
  },
  {
   "cell_type": "code",
   "execution_count": 15,
   "metadata": {},
   "outputs": [
    {
     "name": "stdout",
     "output_type": "stream",
     "text": [
      "The distance between the atoms of the 7NEH and the 7NEG is:\n",
      "cRMSD = 0.6531414085029266\n"
     ]
    }
   ],
   "source": [
    "print('The distance between the atoms of the 7NEH and the 7NEG is:')\n",
    "crmsd = cRMSD(filename1='ATOMS_7NEH.txt', filename2='ATOMS_7NEG.txt')\n",
    "crmsd.pipeline()"
   ]
  },
  {
   "cell_type": "code",
   "execution_count": 16,
   "metadata": {},
   "outputs": [
    {
     "name": "stdout",
     "output_type": "stream",
     "text": [
      "The distance between the Ca atoms of the 7NEH and the 7NEG is:\n",
      "cRMSD = 0.2923968635660831\n"
     ]
    }
   ],
   "source": [
    "print('The distance between the Ca atoms of the 7NEH and the 7NEG is:')\n",
    "crmsd = cRMSD(filename1='CA_7NEH.txt', filename2='CA_7NEG.txt')\n",
    "crmsd.pipeline()"
   ]
  },
  {
   "cell_type": "code",
   "execution_count": null,
   "metadata": {},
   "outputs": [],
   "source": []
  }
 ],
 "metadata": {
  "kernelspec": {
   "display_name": "struc_bio",
   "language": "python",
   "name": "struc_bio"
  },
  "language_info": {
   "codemirror_mode": {
    "name": "ipython",
    "version": 3
   },
   "file_extension": ".py",
   "mimetype": "text/x-python",
   "name": "python",
   "nbconvert_exporter": "python",
   "pygments_lexer": "ipython3",
   "version": "3.9.4"
  }
 },
 "nbformat": 4,
 "nbformat_minor": 4
}
