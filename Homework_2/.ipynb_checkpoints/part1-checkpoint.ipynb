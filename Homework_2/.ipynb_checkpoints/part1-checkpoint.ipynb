{
 "cells": [
  {
   "cell_type": "code",
   "execution_count": 3,
   "metadata": {},
   "outputs": [],
   "source": [
    "from Bio.PDB.PDBParser import PDBParser\n",
    "parser = PDBParser(PERMISSIVE=1)\n",
    "import warnings\n",
    "from Bio.PDB.PDBExceptions import PDBConstructionWarning\n",
    "warnings.simplefilter('ignore', PDBConstructionWarning)"
   ]
  },
  {
   "cell_type": "code",
   "execution_count": 4,
   "metadata": {},
   "outputs": [],
   "source": [
    "def get_characteristics_of_structure(name):\n",
    "    name = name.lower()\n",
    "    structure = parser.get_structure(name, name+'.pdb')\n",
    "\n",
    "    water_counter = 0 \n",
    "    ligands = set()\n",
    "    chains_counter = 0\n",
    "    residues_dict = {}\n",
    "    for model in structure:\n",
    "        for chain in model:\n",
    "            residues_counter = 0\n",
    "            chains_counter += 1\n",
    "            for residue in chain:\n",
    "                hetero_flag = residue.get_id()[0]\n",
    "                if hetero_flag == 'W':\n",
    "                    water_counter += 1\n",
    "                if hetero_flag != ' ' and hetero_flag != 'W': # heteroatom (ligand)\n",
    "                    ligands.add(residue.id[0])\n",
    "                residues_counter += 1\n",
    "#                 for atom in residue:\n",
    "#                     print(atom)\n",
    "            residues_dict[chain.get_id()] = residues_counter\n",
    "\n",
    "    print(f'--------- {name.upper()} ---------')\n",
    "    print(f'The total number of chains is {chains_counter}')        \n",
    "    print('The number of residues per chain is:')\n",
    "    for chain_id, res in residues_dict.items():\n",
    "        print(f'Chain {chain_id} contains {res} residues.')\n",
    "    print(f'Number of water molecules is {water_counter}')\n",
    "    print(f'The ligands that present in the structure are {ligands}')\n",
    "    \n",
    "    return residues_dict, water_counter, ligands"
   ]
  },
  {
   "cell_type": "code",
   "execution_count": 5,
   "metadata": {},
   "outputs": [
    {
     "name": "stdout",
     "output_type": "stream",
     "text": [
      "--------- 7NEH ---------\n",
      "The total number of chains is 4\n",
      "The number of residues per chain is:\n",
      "Chain H contains 468 residues.\n",
      "Chain L contains 387 residues.\n",
      "Chain E contains 296 residues.\n",
      "Chain A contains 3 residues.\n",
      "Number of water molecules is 496\n",
      "The ligands that present in the structure are {'H_FUC', 'H_NAG', 'H_EDO', 'H_ CL', 'H_SO4', 'H_NO3', 'H_PEG'}\n"
     ]
    }
   ],
   "source": [
    "struc_7neh = get_characteristics_of_structure(name='7neh')"
   ]
  },
  {
   "cell_type": "code",
   "execution_count": 6,
   "metadata": {},
   "outputs": [
    {
     "name": "stdout",
     "output_type": "stream",
     "text": [
      "--------- 7NEG ---------\n",
      "The total number of chains is 4\n",
      "The number of residues per chain is:\n",
      "Chain H contains 285 residues.\n",
      "Chain L contains 258 residues.\n",
      "Chain E contains 213 residues.\n",
      "Chain A contains 3 residues.\n",
      "Number of water molecules is 134\n",
      "The ligands that present in the structure are {'H_FUC', 'H_NAG', 'H_GOL', 'H_SO4'}\n"
     ]
    }
   ],
   "source": [
    "struc_7neg = get_characteristics_of_structure(name='7neg')"
   ]
  },
  {
   "cell_type": "markdown",
   "metadata": {},
   "source": [
    "### Determine the R.M.S.D. between receptor binding domain os SARS-COV-2 Spike glycoprotein complex and its mutant"
   ]
  },
  {
   "cell_type": "code",
   "execution_count": 135,
   "metadata": {},
   "outputs": [],
   "source": [
    "def get_RBD_atoms_of_structure(name, start_res_name, start_res_code, stop_res_name, stop_res_code):\n",
    "    name = name.lower()\n",
    "    structure = parser.get_structure(name, name+'.pdb')\n",
    "    rbd_flag = False\n",
    "    receptor_binding_domain = []\n",
    "\n",
    "    for model in structure:\n",
    "        for chain in model:\n",
    "            counter = 0\n",
    "            if chain.id == 'E': # Spike Glycoprotein\n",
    "                for residue in chain:\n",
    "                    name = residue.get_resname() \n",
    "                    code = int(str(residue).split('=')[2].split(' ')[0])\n",
    "#                     print(chain)\n",
    "#                     print(name)\n",
    "#                     print(code)\n",
    "                        \n",
    "                    if name == start_res_name and code == start_res_code: # start of the receptor binding domain\n",
    "                        print('hello')\n",
    "                        rbd_flag = True                         \n",
    "                    if name == stop_res_name and code == stop_res_code: # end of the receptor binding domain\n",
    "                        for atom in residue:\n",
    "                            receptor_binding_domain.append((name, code, atom.get_name(), atom.get_coord()))\n",
    "                        rbd_flag = False\n",
    "                        \n",
    "                    if rbd_flag:\n",
    "                        \n",
    "                        for atom in residue:\n",
    "                            receptor_binding_domain.append((name, code, atom.get_name(), atom.get_coord()))\n",
    "    return receptor_binding_domain"
   ]
  },
  {
   "cell_type": "code",
   "execution_count": 142,
   "metadata": {},
   "outputs": [
    {
     "name": "stdout",
     "output_type": "stream",
     "text": [
      "hello\n",
      "1536\n"
     ]
    }
   ],
   "source": [
    "rbd_7neh = get_RBD_atoms_of_structure(name='7neh', start_res_name='THR', start_res_code=333, stop_res_name='GLY', stop_res_code=526)\n",
    "print(len(rbd_7neh))"
   ]
  },
  {
   "cell_type": "code",
   "execution_count": 141,
   "metadata": {},
   "outputs": [
    {
     "name": "stdout",
     "output_type": "stream",
     "text": [
      "hello\n",
      "1466\n"
     ]
    }
   ],
   "source": [
    "rbd_7neg = get_RBD_atoms_of_structure(name='7neg', start_res_name='ASN', start_res_code=334, stop_res_name='GLU', stop_res_code=516)\n",
    "print(len(rbd_7neg))"
   ]
  },
  {
   "cell_type": "code",
   "execution_count": 148,
   "metadata": {},
   "outputs": [],
   "source": [
    "def get_residues(rbd_list):\n",
    "    residues = []\n",
    "    previous_residue = 'LLL'\n",
    "    for item in rbd_list:\n",
    "        residue = item[0]\n",
    "        if residue != previous_residue:\n",
    "            residues.append(residue)\n",
    "        previous_residue = residue\n",
    "    return residues"
   ]
  },
  {
   "cell_type": "code",
   "execution_count": 165,
   "metadata": {},
   "outputs": [],
   "source": [
    "def valid_residues(rbd_list1, rbd_list2):\n",
    "    residues1 = get_residues(rbd_list1)\n",
    "    residues1 = residues1[1:]\n",
    "    residues1 = residues1[:-9]\n",
    "    residues2 = get_residues(rbd_list2)    \n",
    "    \n",
    "    for (res1, res2) in zip(residues1, residues2):\n",
    "        if res1 != res2:\n",
    "            print(res1)\n",
    "            print(res2)\n",
    "            print('-------------')"
   ]
  },
  {
   "cell_type": "code",
   "execution_count": 166,
   "metadata": {},
   "outputs": [
    {
     "name": "stdout",
     "output_type": "stream",
     "text": [
      "ASN\n",
      "TYR\n",
      "-------------\n"
     ]
    }
   ],
   "source": [
    "valid_residues(rbd_7neh, rbd_7neg)"
   ]
  },
  {
   "cell_type": "code",
   "execution_count": 106,
   "metadata": {},
   "outputs": [],
   "source": [
    "def get_atoms_of_structure(name):\n",
    "    name = name.lower()\n",
    "    structure = parser.get_structure(name, name+'.pdb')\n",
    "\n",
    "    receptor_binding_domain = []\n",
    "\n",
    "    for model in structure:\n",
    "        for chain in model:\n",
    "            for residue in chain:\n",
    "                name = residue.get_resname() \n",
    "                code = int(str(residue).split('=')[2].split(' ')[0])\n",
    "\n",
    "                for atom in residue:\n",
    "                    receptor_binding_domain.append((name, code, atom.get_name(), atom.get_coord()))\n",
    "                    \n",
    "    return receptor_binding_domain"
   ]
  },
  {
   "cell_type": "code",
   "execution_count": 109,
   "metadata": {},
   "outputs": [
    {
     "name": "stdout",
     "output_type": "stream",
     "text": [
      "5455\n"
     ]
    }
   ],
   "source": [
    "atoms_7neh = get_atoms_of_structure(name='7neh')\n",
    "print(len(atoms_7neh))"
   ]
  },
  {
   "cell_type": "code",
   "execution_count": 110,
   "metadata": {},
   "outputs": [
    {
     "name": "stdout",
     "output_type": "stream",
     "text": [
      "4932\n"
     ]
    }
   ],
   "source": [
    "atoms_7neg = get_atoms_of_structure(name='7neg')\n",
    "print(len(atoms_7neg))"
   ]
  },
  {
   "cell_type": "code",
   "execution_count": null,
   "metadata": {},
   "outputs": [],
   "source": []
  }
 ],
 "metadata": {
  "kernelspec": {
   "display_name": "Python 3",
   "language": "python",
   "name": "python3"
  },
  "language_info": {
   "codemirror_mode": {
    "name": "ipython",
    "version": 3
   },
   "file_extension": ".py",
   "mimetype": "text/x-python",
   "name": "python",
   "nbconvert_exporter": "python",
   "pygments_lexer": "ipython3",
   "version": "3.8.5"
  }
 },
 "nbformat": 4,
 "nbformat_minor": 4
}
