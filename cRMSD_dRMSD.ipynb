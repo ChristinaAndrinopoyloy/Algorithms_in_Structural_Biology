{
 "cells": [
  {
   "cell_type": "markdown",
   "id": "included-parks",
   "metadata": {},
   "source": [
    "# Algorithms in Structural Biology\n",
    "## Homework 1\n",
    "### Question 2: cRMSD - dRMSD\n",
    "#### Andrinopoulou Christina (ds2200013)"
   ]
  },
  {
   "cell_type": "code",
   "execution_count": 5,
   "id": "animal-click",
   "metadata": {},
   "outputs": [],
   "source": [
    "%matplotlib inline\n",
    "import matplotlib.pyplot as plt\n",
    "import numpy as np\n",
    "import pandas as pd\n",
    "import statistics\n",
    "import math"
   ]
  },
  {
   "cell_type": "code",
   "execution_count": 2,
   "id": "certified-relief",
   "metadata": {},
   "outputs": [],
   "source": [
    "class cRMSD:\n",
    "    def __init__(self, filename='80_conformations.txt'):\n",
    "        self.filename = filename\n",
    "        self.conformations, self.number_of_conformations, self.number_of_atoms = self.read_conformations()\n",
    "        self.centroid_1 = []\n",
    "        self.centroid_2 = []\n",
    "#         self.U = np.empty((3,3))\n",
    "#         self.U = np.empty((3,3))\n",
    "#         self.U = np.empty((3,3))\n",
    "        \n",
    "        \n",
    "    \n",
    "    def read_conformations(self):\n",
    "        f = open(self.filename)\n",
    "        lines = f.readlines()\n",
    "        conformations = int(lines[0])\n",
    "        atoms = int(lines[1])\n",
    "        \n",
    "        df = pd.read_csv('80_conformations.txt', delimiter = \"\\t\", skiprows=2, header=None)\n",
    "        list_of_conformation = np.array_split(df, 80)\n",
    "        conformations_dict = { i : list_of_conformation[i] for i in range(len(list_of_conformation))}\n",
    "\n",
    "        f.close()\n",
    "        return conformations_dict, conformations, atoms\n",
    "        \n",
    "        \n",
    "    def find_centroid(self, conformation1, conformation2):\n",
    "        sum_result1 = conformation1.sum(axis = 0)\n",
    "        sum_result2 = conformation2.sum(axis = 0)\n",
    "        self.centroid_1 = [sum_result1[i]/self.number_of_atoms for i in range(len(sum_result1))]\n",
    "        self.centroid_2 = [sum_result2[i]/self.number_of_atoms for i in range(len(sum_result2))]\n",
    "        \n",
    "        \n",
    "    def move_to_origin(self, conformation1, conformation2):\n",
    "        number_of_cols = conformation1.shape[1]\n",
    "        for i in range(number_of_cols):\n",
    "            conformation1[i] -= self.centroid_1[i]\n",
    "            conformation2[i] -= self.centroid_2[i]\n",
    "        return conformation1, conformation2\n",
    "        \n",
    "        \n",
    "    def SVD_process(self, conformation1, conformation2):\n",
    "        XT_Y = np.matmul(conformation1.T.to_numpy(), conformation2.to_numpy())\n",
    "        self.U, self.Sigma, self.VT = np.linalg.svd(XT_Y)\n",
    "        self.Q = np.matmul(self.U, self.VT)\n",
    "        detQ = np.linalg.det(self.Q)\n",
    "        if detQ < 0:\n",
    "            self.U[2] = -self.U[2]\n",
    "            self.Q = np.matmul(self.U, self.VT)\n",
    "#         print(self.U)\n",
    "#         print(self.Sigma)\n",
    "#         print(self.VT)\n",
    "#         print(self.Q)\n",
    "        \n",
    "        \n",
    "        \n",
    "    def cRMSD_distance(self, conformation1, conformation2):\n",
    "        temp = np.matmul(conformation1.to_numpy(), self.Q) - conformation2.to_numpy()\n",
    "    \n",
    "        sum_norms = 0\n",
    "        for i in range(temp.shape[0]):\n",
    "            sum_norms += pow(np.linalg.norm(temp[i]),2)\n",
    "        return math.sqrt(sum_norms/self.number_of_atoms)\n",
    "     \n",
    "        \n",
    "    def compare(self, conformation1, conformation2):\n",
    "        self.find_centroid(conformation1, conformation2)\n",
    "        conformation1, conformation2 = self.move_to_origin(conformation1, conformation2)\n",
    "        self.SVD_process(conformation1, conformation2)\n",
    "        c_rmsd = self.cRMSD_distance(conformation1, conformation2)\n",
    "#         print(c_rmsd)\n",
    "        return c_rmsd\n",
    "        \n",
    "        \n",
    "    def compare_all(self):\n",
    "        distances = []\n",
    "        for i in range(self.number_of_conformations):\n",
    "            for j in range(self.number_of_conformations):\n",
    "                if i < j:\n",
    "                    distances.append(self.compare(self.conformations[i], self.conformations[j]))\n",
    "        mean = statistics.mean(distances)\n",
    "        median = statistics.median(distances)\n",
    "        print(f'Mean: {mean}')\n",
    "        print(f'Median: {median}')\n",
    "        plt.hist(distances, bins=10)\n",
    "        plt.title('cRMSD')\n",
    "        plt.xlabel('Distance')\n",
    "        plt.ylabel('Frequency')\n",
    "        plt.show()\n",
    "        \n",
    "        \n",
    "        \n",
    "        \n",
    "    def get_params(self):\n",
    "        return {'Conformations': self.conformations,\n",
    "                'Number_of_Conformations': self.number_of_conformations,\n",
    "                'Number_of_atoms': self.number_of_atoms,\n",
    "                'Centroid_1': self.centroid_1,\n",
    "                'Centroid_2': self.centroid_2\n",
    "#                 'U': self.U,\n",
    "#                 'Sigma': self.Sigma,\n",
    "#                 'V': self.V.T\n",
    "        }"
   ]
  },
  {
   "cell_type": "code",
   "execution_count": 3,
   "id": "detected-diameter",
   "metadata": {},
   "outputs": [
    {
     "data": {
      "text/plain": [
       "0.6271694758794248"
      ]
     },
     "execution_count": 3,
     "metadata": {},
     "output_type": "execute_result"
    }
   ],
   "source": [
    "c_rmsd = cRMSD()\n",
    "params = c_rmsd.get_params()\n",
    "c_rmsd.compare(conformation1=params['Conformations'][0], conformation2=params['Conformations'][1])"
   ]
  },
  {
   "cell_type": "code",
   "execution_count": 4,
   "id": "sixth-bread",
   "metadata": {},
   "outputs": [
    {
     "name": "stdout",
     "output_type": "stream",
     "text": [
      "Mean: 11.015199832626305\n",
      "Median: 10.853087486496054\n"
     ]
    },
    {
     "data": {
      "image/png": "[encoded data removed]",
      "text/plain": [
       "<Figure size 432x288 with 1 Axes>"
      ]
     },
     "metadata": {
      "needs_background": "light"
     },
     "output_type": "display_data"
    }
   ],
   "source": [
    "c_rmsd.compare_all()"
   ]
  },
  {
   "cell_type": "code",
   "execution_count": 47,
   "id": "standing-cooperation",
   "metadata": {},
   "outputs": [],
   "source": [
    "class dRMSD:\n",
    "    def __init__(self, filename='80_conformations.txt'):\n",
    "        self.filename = filename\n",
    "        self.conformations, self.number_of_conformations, self.number_of_atoms = self.read_conformations()\n",
    "        \n",
    "        \n",
    "    def read_conformations(self):\n",
    "        f = open(self.filename)\n",
    "        lines = f.readlines()\n",
    "        conformations = int(lines[0])\n",
    "        atoms = int(lines[1])\n",
    "        \n",
    "        df = pd.read_csv('80_conformations.txt', delimiter = \"\\t\", skiprows=2, header=None)\n",
    "        list_of_conformation = np.array_split(df, 80)\n",
    "        conformations_dict = { i : list_of_conformation[i] for i in range(len(list_of_conformation))}\n",
    "\n",
    "        f.close()\n",
    "        return conformations_dict, conformations, atoms\n",
    "    \n",
    "    \n",
    "    def compare(self, x, y, random_flag=False):\n",
    "        sum_value = 0\n",
    "        k = 0\n",
    "        \n",
    "        conformation_1 = self.conformations[x].to_numpy()\n",
    "        conformation_2 = self.conformations[y].to_numpy()\n",
    "\n",
    "        for i in range(self.number_of_atoms):\n",
    "            atom_x_1 = conformation_1[i]\n",
    "            atom_y_1 = conformation_2[i]\n",
    "            for j in range(self.number_of_atoms):\n",
    "                if i < j:\n",
    "                    k += 1\n",
    "                    atom_x_2 = conformation_1[j]\n",
    "                    atom_y_2 = conformation_2[j]\n",
    "                    dist_x = np.linalg.norm(atom_x_1 - atom_x_2)\n",
    "                    dist_y = np.linalg.norm(atom_y_1 - atom_y_2)\n",
    "                    sum_value += pow(dist_x-dist_y, 2)\n",
    "                    \n",
    "        return math.sqrt(sum_value/k)\n",
    "    \n",
    "    \n",
    "    def compare_all(self, random_flag=False):\n",
    "        distances = []\n",
    "        for i in range(self.number_of_conformations):\n",
    "            for j in range(self.number_of_conformations):\n",
    "                if i < j:\n",
    "                    distances.append(self.compare(i, j))\n",
    "        mean = statistics.mean(distances)\n",
    "        median = statistics.median(distances)\n",
    "        print(f'Mean: {mean}')\n",
    "        print(f'Median: {median}')\n",
    "        plt.hist(distances, bins=10)\n",
    "        plt.title('dRMSD')\n",
    "        plt.xlabel('Distance')\n",
    "        plt.ylabel('Frequency')\n",
    "        plt.show()\n",
    "                    \n"
   ]
  },
  {
   "cell_type": "code",
   "execution_count": 48,
   "id": "dietary-acrylic",
   "metadata": {},
   "outputs": [
    {
     "name": "stdout",
     "output_type": "stream",
     "text": [
      "Mean: 6.7950321975044385\n",
      "Median: 6.468606946347217\n"
     ]
    },
    {
     "data": {
      "image/png": "[encoded data removed]",
      "text/plain": [
       "<Figure size 432x288 with 1 Axes>"
      ]
     },
     "metadata": {
      "needs_background": "light"
     },
     "output_type": "display_data"
    }
   ],
   "source": [
    "d_rmsd = dRMSD()\n",
    "d_rmsd.compare_all()"
   ]
  },
  {
   "cell_type": "code",
   "execution_count": null,
   "id": "checked-petite",
   "metadata": {},
   "outputs": [],
   "source": []
  }
 ],
 "metadata": {
  "kernelspec": {
   "display_name": "Python 3",
   "language": "python",
   "name": "python3"
  },
  "language_info": {
   "codemirror_mode": {
    "name": "ipython",
    "version": 3
   },
   "file_extension": ".py",
   "mimetype": "text/x-python",
   "name": "python",
   "nbconvert_exporter": "python",
   "pygments_lexer": "ipython3",
   "version": "3.8.8"
  }
 },
 "nbformat": 4,
 "nbformat_minor": 5
}
