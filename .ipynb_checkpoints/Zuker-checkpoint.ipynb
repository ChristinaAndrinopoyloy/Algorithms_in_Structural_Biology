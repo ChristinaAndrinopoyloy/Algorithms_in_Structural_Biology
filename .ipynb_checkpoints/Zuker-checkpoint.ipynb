{
 "cells": [
  {
   "cell_type": "markdown",
   "metadata": {},
   "source": [
    "# Algorithms in Structural Biology\n",
    "## Homework 1\n",
    "#### Andrinopoulou Christina (ds2200013)"
   ]
  },
  {
   "cell_type": "code",
   "execution_count": 1,
   "metadata": {},
   "outputs": [],
   "source": [
    "import numpy as np"
   ]
  },
  {
   "cell_type": "code",
   "execution_count": 3,
   "metadata": {},
   "outputs": [],
   "source": [
    "seq = 'AAUACUCCGUUGCAGCAU'"
   ]
  },
  {
   "cell_type": "code",
   "execution_count": 10,
   "metadata": {},
   "outputs": [],
   "source": [
    "def initialize_array(length_of_seq, dist_const):\n",
    "    # create an empty array\n",
    "    returned_array = np.empty((length_of_seq, length_of_seq))\n",
    "    returned_array[:] = np.NaN\n",
    "    \n",
    "    # if j + 5 > i -> inf\n",
    "    for i in range(returned_array.shape[0]):\n",
    "        for j in range(returned_array.shape[1]):\n",
    "            if j + dist_const > i:\n",
    "                returned_array[i,j] = np.inf\n",
    "    \n",
    "    return returned_array"
   ]
  },
  {
   "cell_type": "code",
   "execution_count": 12,
   "metadata": {},
   "outputs": [
    {
     "data": {
      "text/plain": [
       "array([[inf, inf, inf, inf, inf, inf, inf, inf, inf, inf, inf, inf, inf,\n",
       "        inf, inf, inf, inf, inf],\n",
       "       [inf, inf, inf, inf, inf, inf, inf, inf, inf, inf, inf, inf, inf,\n",
       "        inf, inf, inf, inf, inf],\n",
       "       [inf, inf, inf, inf, inf, inf, inf, inf, inf, inf, inf, inf, inf,\n",
       "        inf, inf, inf, inf, inf],\n",
       "       [inf, inf, inf, inf, inf, inf, inf, inf, inf, inf, inf, inf, inf,\n",
       "        inf, inf, inf, inf, inf],\n",
       "       [inf, inf, inf, inf, inf, inf, inf, inf, inf, inf, inf, inf, inf,\n",
       "        inf, inf, inf, inf, inf],\n",
       "       [nan, inf, inf, inf, inf, inf, inf, inf, inf, inf, inf, inf, inf,\n",
       "        inf, inf, inf, inf, inf],\n",
       "       [nan, nan, inf, inf, inf, inf, inf, inf, inf, inf, inf, inf, inf,\n",
       "        inf, inf, inf, inf, inf],\n",
       "       [nan, nan, nan, inf, inf, inf, inf, inf, inf, inf, inf, inf, inf,\n",
       "        inf, inf, inf, inf, inf],\n",
       "       [nan, nan, nan, nan, inf, inf, inf, inf, inf, inf, inf, inf, inf,\n",
       "        inf, inf, inf, inf, inf],\n",
       "       [nan, nan, nan, nan, nan, inf, inf, inf, inf, inf, inf, inf, inf,\n",
       "        inf, inf, inf, inf, inf],\n",
       "       [nan, nan, nan, nan, nan, nan, inf, inf, inf, inf, inf, inf, inf,\n",
       "        inf, inf, inf, inf, inf],\n",
       "       [nan, nan, nan, nan, nan, nan, nan, inf, inf, inf, inf, inf, inf,\n",
       "        inf, inf, inf, inf, inf],\n",
       "       [nan, nan, nan, nan, nan, nan, nan, nan, inf, inf, inf, inf, inf,\n",
       "        inf, inf, inf, inf, inf],\n",
       "       [nan, nan, nan, nan, nan, nan, nan, nan, nan, inf, inf, inf, inf,\n",
       "        inf, inf, inf, inf, inf],\n",
       "       [nan, nan, nan, nan, nan, nan, nan, nan, nan, nan, inf, inf, inf,\n",
       "        inf, inf, inf, inf, inf],\n",
       "       [nan, nan, nan, nan, nan, nan, nan, nan, nan, nan, nan, inf, inf,\n",
       "        inf, inf, inf, inf, inf],\n",
       "       [nan, nan, nan, nan, nan, nan, nan, nan, nan, nan, nan, nan, inf,\n",
       "        inf, inf, inf, inf, inf],\n",
       "       [nan, nan, nan, nan, nan, nan, nan, nan, nan, nan, nan, nan, nan,\n",
       "        inf, inf, inf, inf, inf]])"
      ]
     },
     "execution_count": 12,
     "metadata": {},
     "output_type": "execute_result"
    }
   ],
   "source": [
    "initialize_array(length_of_seq=len(seq), dist_const=5)"
   ]
  },
  {
   "cell_type": "code",
   "execution_count": null,
   "metadata": {},
   "outputs": [],
   "source": []
  }
 ],
 "metadata": {
  "kernelspec": {
   "display_name": "Python 3",
   "language": "python",
   "name": "python3"
  },
  "language_info": {
   "codemirror_mode": {
    "name": "ipython",
    "version": 3
   },
   "file_extension": ".py",
   "mimetype": "text/x-python",
   "name": "python",
   "nbconvert_exporter": "python",
   "pygments_lexer": "ipython3",
   "version": "3.8.5"
  }
 },
 "nbformat": 4,
 "nbformat_minor": 4
}
